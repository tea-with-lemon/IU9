{
 "cells": [
  {
   "cell_type": "markdown",
   "metadata": {},
   "source": [
    "#Методы оптимизации\n",
    "\n",
    "##Лабораторная рабоа №3. \n",
    "##ИУ9-81 Батусов Павел (2 вариант)"
   ]
  },
  {
   "cell_type": "markdown",
   "metadata": {},
   "source": [
    "#### Методы одномерного поиска.\n",
    "\n",
    "Рассматривается задача поиска экстремума унимодальной функции\n",
    "$$\n",
    "f(x) = 10x^2+3x+2+sin(x)\n",
    "$$\n",
    "Построим её график"
   ]
  },
  {
   "cell_type": "code",
   "execution_count": 1,
   "metadata": {},
   "outputs": [],
   "source": [
    "import numpy\n",
    "import pandas\n",
    "\n",
    "from matplotlib import pylab as plt\n",
    "from mpl_toolkits.mplot3d import Axes3D\n",
    "import seaborn as sns"
   ]
  },
  {
   "cell_type": "code",
   "execution_count": 2,
   "metadata": {},
   "outputs": [
    {
     "data": {
      "image/png": "[encoded data removed]",
      "text/plain": [
       "<matplotlib.figure.Figure at 0x7fc751bf6750>"
      ]
     },
     "metadata": {},
     "output_type": "display_data"
    }
   ],
   "source": [
    "def f(x):\n",
    "    return 10*x**2+ 3*x + 2 + 100*numpy.sin(x)\n",
    "\n",
    "left = -10\n",
    "right = 10\n",
    "\n",
    "X = numpy.linspace(left, right, 200)\n",
    "pylab.plot(X, f(X))\n",
    "plt.show()"
   ]
  },
  {
   "cell_type": "markdown",
   "metadata": {},
   "source": [
    "Поиск экстремума осуществляеся тремя различными алгоритмами:\n",
    "1. Метод половинного деления\n",
    "2. Метод золотого сечения\n",
    "3. Метод Фибоначчи"
   ]
  },
  {
   "cell_type": "code",
   "execution_count": 3,
   "metadata": {},
   "outputs": [],
   "source": [
    "def BinarySearch(left, right, eps = 0.000001):\n",
    "    steps_count = 0\n",
    "    while right - left > eps:\n",
    "        steps_count += 1\n",
    "        m1 = left + (right - left) / 3.0\n",
    "        m2 = right - (right - left) / 3.0\n",
    "        if (f(m1) < f(m2)): \n",
    "            right = m2\n",
    "        else:\n",
    "            left = m1\n",
    "    return (f((right+left) / 2.0), (right+left) / 2.0, steps_count)\n",
    "\n",
    "def GoldenSection(left, right, eps = 0.000001):\n",
    "     x = left + (right - left) * (3 - sqrt(5)) / 2.0\n",
    "     y = left + right - x\n",
    "     steps_count = 0\n",
    "     while right - left > eps:\n",
    "        steps_count += 1\n",
    "        if f(x) < f(y):\n",
    "            right = y\n",
    "            y = x\n",
    "            x = left + right - y\n",
    "        else:\n",
    "            left = x\n",
    "            x = y\n",
    "            y = left + right - x\n",
    "     return (f((right+left) / 2.0), (right+left) / 2.0, steps_count)\n",
    "\n",
    "def FibonachiSection(left, right, eps = 0.000001):\n",
    "    def fib(n):\n",
    "        if n < 3:\n",
    "            return 1.\n",
    "        return fib(n-1) + fib(n-2)\n",
    "    steps_count = 0\n",
    "    while right - left > eps:\n",
    "       steps_count += 1\n",
    "       x = left + fib(steps_count+2)/fib(steps_count+3) * (right - left)\n",
    "       y = left + right - x\n",
    "       if f(x) > f(y):\n",
    "           right = y\n",
    "       else:\n",
    "           left = x\n",
    "    return (f((right+left) / 2.0), (right+left) / 2.0, steps_count)    "
   ]
  },
  {
   "cell_type": "markdown",
   "metadata": {},
   "source": [
    "В каждом методе реализован подсчет количества шагов, за которые был вычислен ответ. \n",
    "\n",
    "Результат вычислений $-$ тройка чисел:\n",
    "1. Значение функции в найденной точке экстремума\n",
    "2. Точка экстремума\n",
    "3. Количество шагов алгоритма"
   ]
  },
  {
   "cell_type": "code",
   "execution_count": 4,
   "metadata": {},
   "outputs": [
    {
     "name": "stdout",
     "output_type": "stream",
     "text": [
      "(-81.416099499463229, -1.33211364371233, 40)\n",
      "(-81.416099499463456, -1.3321138495346263, 34)\n",
      "(-81.416099497883579, -1.3321085623258488, 17)\n"
     ]
    }
   ],
   "source": [
    "print BinarySearch(-10, 1)\n",
    "print GoldenSection(-10, 1)\n",
    "print FibonachiSection(-10, 1)"
   ]
  },
  {
   "cell_type": "code",
   "execution_count": 5,
   "metadata": {},
   "outputs": [
    {
     "name": "stdout",
     "output_type": "stream",
     "text": [
      "(96.614153253751624, 3.801191327765406, 49)\n",
      "(96.614153254099818, 3.8011883535655411, 40)\n",
      "(96.61415325716473, 3.8012004453209656, 21)\n"
     ]
    }
   ],
   "source": [
    "print BinarySearch(3.7, 400)\n",
    "print GoldenSection(3.7, 400)\n",
    "print FibonachiSection(3.7, 400)"
   ]
  },
  {
   "cell_type": "markdown",
   "metadata": {},
   "source": [
    "#### Методы многомерного поиска.\n",
    "\n",
    "Требуется найти безусловный минимум функции $f(x)$ многих переменных, используя методы одномерного поиска для определения величины шага в направлении поиска $d^k$\n",
    "$$\n",
    "\\alpha^{*k} = Arg \\ min \\ f(x^k+\\alpha^kd^k)\n",
    "$$\n",
    "\n",
    "В качестве $f(x)$ рассматривается функция Розенброка:\n",
    "$$\n",
    "f(x) = \\sum\\limits_{i=1}^{n-1} [a(x_i^2-x_{i+1})^2+b(x_i-1)^2] + f_0\n",
    "$$\n",
    "с коэффициентами\n",
    "$$\n",
    "a = 150\n",
    "$$\n",
    "$$\n",
    "b = 2\n",
    "$$\n",
    "$$\n",
    "f_0 = 110\n",
    "$$\n",
    "$$\n",
    "n = 3\n",
    "$$"
   ]
  },
  {
   "cell_type": "markdown",
   "metadata": {},
   "source": [
    "* Метод конфигураций (метод Хука – Дживса). "
   ]
  },
  {
   "cell_type": "code",
   "execution_count": 36,
   "metadata": {},
   "outputs": [],
   "source": [
    "from scipy.optimize import minimize_scalar\n",
    "\n",
    "def f(x, a=150, b=2, f0=110):\n",
    "    return sum([a * (x[i] ** 2 - x[i + 1]) ** 2 + b * (x[i] - 1) ** 2 for i in range(0, len(x) - 1)]) + f0\n",
    "\n",
    "def get_step_point(x, h, i):\n",
    "    x = copy(x)\n",
    "    x[i] += h\n",
    "    return x\n",
    "\n",
    "def exploring_search(f, x0, e=1e-5):\n",
    "    def f_opt(h):\n",
    "        return f(get_step_point(x, h, i))\n",
    "    x = x0\n",
    "    while True:\n",
    "        for i in range(len(x)):\n",
    "            xp = x\n",
    "            x = get_step_point(x, minimize_scalar(f_opt).x, i)\n",
    "        if sum(x - xp) * 1.0 / len(x) < e:\n",
    "            break\n",
    "    return x\n",
    "\n",
    "def pattern_search(f, x0, e=1e-3, l=2.0):\n",
    "    step = 0\n",
    "    while True:\n",
    "        step += 1\n",
    "        x1 = x0\n",
    "        x2 = exploring_search(f, x0)\n",
    "        x3 = x1 + l * (x2 - x1)\n",
    "        x4 = exploring_search(f, x3)\n",
    "        if np.linalg.norm((x2 - x4)) / len(x0) < e:\n",
    "            break\n",
    "        else:\n",
    "            x0 = x2\n",
    "    return x2, f(x2), step\n"
   ]
  },
  {
   "cell_type": "markdown",
   "metadata": {},
   "source": [
    "Задаем начальные параметры, точку первого приблежения"
   ]
  },
  {
   "cell_type": "code",
   "execution_count": 187,
   "metadata": {},
   "outputs": [
    {
     "name": "stdout",
     "output_type": "stream",
     "text": [
      "679772630.254 [39.33561727, 38.77636387, 1.55366036]\n"
     ]
    }
   ],
   "source": [
    "n = 3\n",
    "scale = 100\n",
    "\n",
    "start_point = [39.33561727, 38.77636387, 1.55366036]\n",
    "print f(start_point), start_point"
   ]
  },
  {
   "cell_type": "markdown",
   "metadata": {},
   "source": [
    "Метод требует большого количества шагов для получения результата"
   ]
  },
  {
   "cell_type": "code",
   "execution_count": 188,
   "metadata": {},
   "outputs": [
    {
     "name": "stdout",
     "output_type": "stream",
     "text": [
      "(array([ 1.11617763,  1.24599535,  1.55250441]), 110.14802496841133, 1891)\n"
     ]
    }
   ],
   "source": [
    "print pattern_search(f, x0=start_point)"
   ]
  },
  {
   "cell_type": "markdown",
   "metadata": {},
   "source": [
    "* Метод наискорейшего градиентного спуска.\n",
    "\n",
    "Этот вариант градиентного метода основывается на выборе шага из следующего соображения. Из точки $x^{[k]}$ будем двигаться в направлении антиградиента до тех пор пока не достигнем минимума функции $f$ на этом направлении, т. е. на луче\n",
    "$$\n",
    "L=[x=x^{[k]}-\\lambda f'(x^{[k]});\\; \\lambda \\leq 0] :\n",
    "    \\lambda^{[k]} = \\arg\\min_{ \\lambda\\in [0, \\infty)} f(x^{[k]}-\\lambda f'(x^{[k]})). \n",
    "$$\n",
    "Другими словами, $\\lambda^{[k]}$ выбирается так, чтобы следующая итерация была точкой минимума функции $f$ на луче L.       \n"
   ]
  },
  {
   "cell_type": "code",
   "execution_count": 189,
   "metadata": {},
   "outputs": [],
   "source": [
    "from scipy.optimize import minimize_scalar\n",
    "\n",
    "def f(x, a = 150, b = 2, f0 = 110):\n",
    "    return sum([a*(x[i]**2 - x[i+1])**2 + b*(x[i] - 1)**2 for i in range(0, len(x)-1)]) + f0\n",
    "\n",
    "def Grad(x, a = 150, b = 2):\n",
    "    return np.array([4*a*x[0]*(x[0]**2-x[1]) + 2*b*(x[0]-1), \n",
    "                     4*a*x[1]*(x[1]**2-x[2]) + 2*b*(x[1]-1) - 2*a*(x[0]**2-x[1]), \n",
    "                     -2*a*(x[1]**2-x[2])])\n",
    "\n",
    "def GradSearch(x, nm ='Bounded', eps = 0.0005, max_step = 100, steps = 0):\n",
    "    result = minimize_scalar(lambda alpha: f(x - alpha*Grad(x)), bounds = (-max_step, max_step), method = nm)\n",
    "    new_x = x - result.x*Grad(x)\n",
    "    print x, f(x), f(new_x)\n",
    "    if f(x) - f(new_x) < eps:\n",
    "        return (f(x), x, steps)\n",
    "    return GradSearch(new_x, nm, steps = steps + 1)"
   ]
  },
  {
   "cell_type": "markdown",
   "metadata": {},
   "source": [
    "В качестве методов одномерной оптимизации использовались: метод деления отрезка пополам и метод золотого сечения.\n",
    "\n",
    "Ниже представлены результаты тестирования. \n",
    "\n",
    "Метод золотого сечения дает более точный результат за меньшее число шагов, по сравнению с методом половинного деления."
   ]
  },
  {
   "cell_type": "code",
   "execution_count": 190,
   "metadata": {},
   "outputs": [
    {
     "name": "stdout",
     "output_type": "stream",
     "text": [
      "[39.33561727, 38.77636387, 1.55366036] 679772630.254 134169041.003\n",
      "[ 26.20118987  26.0510885    1.71989787] 134169041.003 26395037.7771\n",
      "[ 17.57422135  17.42403501   1.8886355 ] 26395037.7771 275.536226465\n",
      "[ 1.57274457  1.45498828  2.35993704] 275.536226465 119.446673082\n",
      "[ 1.3088734   1.59626789  2.33997509] 119.446673082 111.931937799\n",
      "[ 1.27357101  1.53303441  2.36366631] 111.931937799 110.869945559\n",
      "[ 1.24950767  1.54590655  2.36225815] 110.869945559 110.720351221\n",
      "[ 1.2445761   1.53678621  2.36551706] 110.720351221 110.697253033\n",
      "[ 1.2409406   1.53859618  2.36510519] 110.697253033 110.693510392\n",
      "[ 1.24014191  1.53706396  2.3653709 ] 110.693510392 110.692730864\n",
      "[ 1.23948089  1.53735151  2.36502778]"
     ]
    },
    {
     "name": "stdout",
     "output_type": "stream",
     "text": [
      " 110.692730864 110.692355729\n",
      "(110.69273086413823, array([ 1.23948089,  1.53735151,  2.36502778]), 10)\n"
     ]
    }
   ],
   "source": [
    "print GradSearch(start_point, nm = 'Bounded')"
   ]
  },
  {
   "cell_type": "code",
   "execution_count": 191,
   "metadata": {},
   "outputs": [
    {
     "name": "stdout",
     "output_type": "stream",
     "text": [
      "[39.33561727, 38.77636387, 1.55366036] 679772630.254 203.527135962\n",
      "[ 0.85510857  1.49456586  2.04069369] 203.527135962 136.769343076\n",
      "[ 1.01905824  1.32566088  2.06489968] 136.769343076 113.573483634\n",
      "[ 1.14081606  1.43467471  2.00089998] 113.573483634 110.727418531\n",
      "[ 1.17149259  1.40383376  2.00672841] 110.727418531 110.43872681\n",
      "[ 1.18450458  1.4155368   2.00016917] 110.43872681 110.415726923\n",
      "[ 1.18720376  1.41273517  2.00052503]"
     ]
    },
    {
     "name": "stdout",
     "output_type": "stream",
     "text": [
      " 110.415726923 110.4137101\n",
      "[ 1.18821374  1.41359431  1.99962816] 110.4137101 110.413392056\n",
      "(110.41371009980688, array([ 1.18821374,  1.41359431,  1.99962816]), 7)\n"
     ]
    }
   ],
   "source": [
    "print GradSearch(start_point, nm = 'Golden')"
   ]
  }
 ],
 "metadata": {
  "name": "",
  "signature": "sha256:9ca8fd9fe4ff606027d0b51e20b94f2f0980bb68cfceeaa36c3ba1e63ed6c4b9"
 },
 "nbformat": 4,
 "nbformat_minor": 0
}
