{
 "cells": [
  {
   "cell_type": "code",
   "execution_count": null,
   "metadata": {
    "collapsed": true
   },
   "outputs": [],
   "source": [
    "import matplotlib.pylab as plt\n",
    "from mpl_toolkits.mplot3d import Axes3D\n",
    "import numpy\n",
    "\n",
    "def makeData ():\n",
    "    x = numpy.arange (-10, 10, 0.1)\n",
    "    y = numpy.arange (-10, 10, 0.1)\n",
    "    xgrid, ygrid = numpy.meshgrid(x, y)\n",
    "\n",
    "    zgrid = (xgrid**2 - 1)**2 + 30* (ygrid **2 - xgrid)**2\n",
    "    return xgrid, ygrid, zgrid\n",
    "\n",
    "x, y, z = makeData()\n",
    "\n",
    "fig = plt.figure()\n",
    "axes = Axes3D(fig)\n",
    "\n",
    "axes.plot_surface(x, y, z, cmap=plt.cm.coolwarm)\n",
    "\n",
    "plt.show()"
   ]
  }
 ],
 "metadata": {
  "kernelspec": {
   "display_name": "Python 2",
   "language": "python",
   "name": "python2"
  },
  "language_info": {
   "codemirror_mode": {
    "name": "ipython",
    "version": 2
   },
   "file_extension": ".py",
   "mimetype": "text/x-python",
   "name": "python",
   "nbconvert_exporter": "python",
   "pygments_lexer": "ipython2",
   "version": "2.7.6"
  }
 },
 "nbformat": 4,
 "nbformat_minor": 0
}
