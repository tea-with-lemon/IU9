{
 "metadata": {
  "name": "",
  "signature": "sha256:8cfa019fe45a47ddde75d8b9d212504861471e72c11b7fecebb40d0cff948b71"
 },
 "nbformat": 3,
 "nbformat_minor": 0,
 "worksheets": [
  {
   "cells": [
    {
     "cell_type": "markdown",
     "metadata": {},
     "source": [
      "#\u041c\u0435\u0442\u043e\u0434\u044b \u043e\u043f\u0442\u0438\u043c\u0438\u0437\u0430\u0446\u0438\u0438\n",
      "\n",
      "##\u041b\u0430\u0431\u043e\u0440\u0430\u0442\u043e\u0440\u043d\u0430\u044f \u0440\u0430\u0431\u043e\u0442\u0430 \u21164. \n",
      "##\u0418\u04239-81 \u0411\u0430\u0442\u0443\u0441\u043e\u0432 \u041f\u0430\u0432\u0435\u043b (2 \u0432\u0430\u0440\u0438\u0430\u043d\u0442)"
     ]
    },
    {
     "cell_type": "markdown",
     "metadata": {},
     "source": [
      "#### \u041c\u0435\u0442\u043e\u0434\u044b \u043c\u043d\u043e\u0433\u043e\u043c\u0435\u0440\u043d\u043e\u0433\u043e \u043f\u043e\u0438\u0441\u043a\u0430.\n",
      "\n",
      "\u0420\u0430\u0441\u0441\u043c\u0430\u0442\u0440\u0438\u0432\u0430\u0435\u0442\u0441\u044f \u0437\u0430\u0434\u0430\u0447\u0430 \u043f\u043e\u0438\u0441\u043a\u0430 \u0431\u0435\u0437\u0443\u0441\u043b\u043e\u0432\u043d\u043e\u0433\u043e \u043c\u0438\u043d\u0438\u043c\u0443\u043c\u0430 \u0432\u0443\u043d\u043a\u0446\u0438\u0438 $f(x)$ \u043c\u043d\u043e\u0433\u0438\u0445 \u043f\u0435\u0440\u0435\u043c\u0435\u043d\u043d\u044b\u0445, \u0438\u0441\u043f\u043e\u043b\u044c\u0437\u0443\u044f \u043c\u0435\u0442\u043e\u0434\u044b \u043e\u0434\u043d\u043e\u043c\u0435\u0440\u043d\u043e\u0433\u043e \u043f\u043e\u0438\u0441\u043a\u0430 \u0434\u043b\u044f \u043e\u043f\u0440\u0435\u0434\u0435\u043b\u0435\u043d\u0438\u044f \u0432\u0435\u043b\u0438\u0447\u0438\u043d\u044b \u0448\u0430\u0433\u0430 \u0432 \u043d\u0430\u043f\u0440\u0430\u0432\u043b\u0435\u043d\u0438\u0438 \u043f\u043e\u0438\u0441\u043a\u0430 $d^k$\n",
      "$$\n",
      "\\alpha^{*k} = Arg \\ min \\ f(x^k+\\alpha^kd^k)\n",
      "$$\n",
      "\n",
      "\u0412 \u043a\u0430\u0447\u0435\u0441\u0442\u0432\u0435 $f(x)$ \u0440\u0430\u0441\u0441\u043c\u0430\u0442\u0440\u0438\u0432\u0430\u0435\u0442\u0441\u044f \u0444\u0443\u043d\u043a\u0446\u0438\u044f \u0420\u043e\u0437\u0435\u043d\u0431\u0440\u043e\u043a\u0430:\n",
      "$$\n",
      "f(x) = \\sum\\limits_{i=1}^{n-1} [a(x_i^2-x_{i+1})+b(x_i-1)^2] + f_0\n",
      "$$\n",
      "\u0441 \u043a\u043e\u044d\u0444\u0444\u0438\u0446\u0438\u0435\u043d\u0442\u0430\u043c\u0438\n",
      "$$\n",
      "a = 150\n",
      "$$\n",
      "$$\n",
      "b = 2\n",
      "$$\n",
      "$$\n",
      "f_0 = 110\n",
      "$$\n",
      "$$\n",
      "n = 3\n",
      "$$\n",
      "\n",
      "\u0412 \u043a\u0430\u0447\u0435\u0441\u0442\u0432\u0435 \u043c\u0435\u0442\u043e\u0434\u0430 \u043e\u0434\u043d\u043e\u043c\u0435\u0440\u043d\u043e\u0433\u043e \u043f\u043e\u0438\u0441\u043a\u0430 \u0434\u043b\u044f \u043e\u043f\u0440\u0435\u0434\u0435\u043b\u0435\u043d\u0438\u044f \u0432\u0435\u043b\u0438\u0447\u0438\u043d\u044b \u0448\u0430\u0433\u0430 \u0432 \u043d\u0430\u043f\u0440\u0430\u0432\u043b\u0435\u043d\u0438\u0438 \u043f\u043e\u0438\u0441\u043a\u0430 $d^k$ \u0438\u0441\u043f\u043e\u043b\u044c\u0437\u0443\u0435\u0442\u0441\u044f \u0430\u043b\u0433\u043e\u0440\u0438\u0442\u043c \"\u0417\u043e\u043b\u043e\u0442\u043e\u0433\u043e \u0441\u0435\u0447\u0435\u043d\u0438\u044f\"."
     ]
    },
    {
     "cell_type": "markdown",
     "metadata": {},
     "source": [
      "####\u0418\u043d\u0438\u0446\u0438\u0430\u043b\u0438\u0437\u0430\u0446\u0438\u044f, \u0438\u043c\u043f\u043e\u0440\u0442 \u0432\u043d\u0435\u0448\u043d\u0438\u0445 \u0431\u0438\u0431\u043b\u0438\u043e\u0442\u0435\u043a, \u043e\u043f\u0440\u0435\u0434\u0435\u043b\u0435\u043d\u0438\u0435 \u0444\u0443\u043d\u043a\u0446\u0438\u0438 $f(x)$ \u0438 \u0435\u0451 \u0433\u0440\u0430\u0434\u0438\u0435\u043d\u0442\u0430 $\\nabla f(x)$"
     ]
    },
    {
     "cell_type": "code",
     "collapsed": false,
     "input": [
      "from scipy.optimize import minimize_scalar\n",
      "from sympy import hessian\n",
      "from sympy import Symbol\n",
      "import numpy as np\n",
      "\n",
      "def f(x, a = 150, b = 2, f0 = 110):\n",
      "    return sum([a*(x[i]**2 - x[i+1])**2 + b*(x[i] - 1)**2 for i in range(0, len(x)-1)]) + f0\n",
      "\n",
      "def Grad(x, a = 150, b = 2):\n",
      "    return np.array([4*a*x[0]*(x[0]**2-x[1]) + 2*b*(x[0]-1), \n",
      "                     4*a*x[1]*(x[1]**2-x[2]) + 2*b*(x[1]-1) - 2*a*(x[0]**2-x[1]), \n",
      "                     -2*a*(x[1]**2-x[2])])"
     ],
     "language": "python",
     "metadata": {},
     "outputs": [],
     "prompt_number": 26
    },
    {
     "cell_type": "markdown",
     "metadata": {},
     "source": [
      "####\u0410\u043b\u0433\u043e\u0440\u0438\u0442\u043c \u0424\u043b\u0435\u0442\u0447\u0435\u0440\u0430-\u0420\u0438\u0432\u0441\u0430\n",
      "\n",
      "\u0421\u0442\u0440\u0430\u0442\u0435\u0433\u0438\u044f \u043c\u0435\u0442\u043e\u0434\u0430 \u0424\u043b\u0435\u0442\u0447\u0435\u0440\u0430-\u0420\u0438\u0432\u0437\u0430 \u0441\u043e\u0441\u0442\u043e\u0438\u0442 \u0432 \u043f\u043e\u0441\u0442\u0440\u043e\u0435\u043d\u0438\u0438 \u043f\u043e\u0441\u043b\u0435\u0434\u043e\u0432\u0430\u0442\u0435\u043b\u044c\u043d\u043e\u0441\u0442\u0438 \u0442\u043e\u0447\u0435\u043a $\\{x^k\\}, k = 0, 1, \\cdots $, \u0442\u0430\u043a\u0438\u0445, \u0447\u0442\u043e $f(x^{k+1}) < f(x^k)$. \u0422\u043e\u0447\u043a\u0438 \u043f\u043e\u0441\u043b\u0435\u0434\u043e\u0432\u0430\u0442\u0435\u043b\u044c\u043d\u043e\u0441\u0442\u0438 $\\{x^k\\}$ \u0432\u044b\u0447\u0438\u0441\u043b\u044f\u044e\u0442\u0441\u044f \u043f\u043e \u043f\u0440\u0430\u0432\u0438\u043b\u0430\u043c:\n",
      "\n",
      "$$\n",
      "x^{k+1} = x^k + \\alpha^kd^k\n",
      "$$\n",
      "\n",
      "$$\n",
      "d^k = -\\nabla f(x^k) + w^{k-1}d^{k-1}\n",
      "$$\n",
      "\n",
      "$$\n",
      "d^0 = -\\nabla f(x^0)\n",
      "$$\n",
      "\n",
      "$$\n",
      "w^{k-1} = \\frac{||\\nabla f(x^k)||^2}{||\\nabla f(x^{k-1})||^2}\n",
      "$$\n",
      "\n",
      "\u0422\u043e\u0447\u043a\u0430 $x^0$ \u0437\u0430\u0434\u0430\u0435\u0442\u0441\u044f \u043f\u043e\u043b\u044c\u0437\u043e\u0432\u0430\u0442\u0435\u043b\u0435\u043c, \u0432\u0435\u043b\u0438\u0447\u0438\u043d\u0430 \u0448\u0430\u0433\u0430 $\\alpha^{*k}$ \u043e\u043f\u0440\u0435\u0434\u0435\u043b\u044f\u0435\u0442\u0441\u044f \u0434\u043b\u044f \u043a\u0430\u0436\u0434\u043e\u0433\u043e \u0437\u043d\u0430\u0447\u0435\u043d\u0438\u044f $k$ \u0438\u0437 \u0443\u0441\u043b\u043e\u0432\u0438\u044f $\\alpha^{*k} = Arg \\ min \\ f(x^k+\\alpha^kd^k)$."
     ]
    },
    {
     "cell_type": "code",
     "collapsed": false,
     "input": [
      "def FletcherReeves(x, step = 0, d_prev = 0, x_prev = 0, delta = 0.01, eps = 0.01, max_step = 100):\n",
      "    d = -Grad(x)\n",
      "    if step > 0: d += d_prev * (np.linalg.norm(Grad(x))/np.linalg.norm(Grad(x_prev)))**2\n",
      "    alpha = minimize_scalar(lambda alpha: f(x + alpha*d), bounds = (-max_step, max_step), method = 'Golden')\n",
      "    new_x = x + alpha.x*d\n",
      "    if abs(np.linalg.norm(x - new_x)) < delta and f(x) - f(new_x) < eps:\n",
      "        return f(new_x), new_x, step\n",
      "    return FletcherReeves(new_x, step+1, d, x)"
     ],
     "language": "python",
     "metadata": {},
     "outputs": [],
     "prompt_number": 2
    },
    {
     "cell_type": "markdown",
     "metadata": {},
     "source": [
      "####\u041c\u0435\u0442\u043e\u0434 \u0414\u0435\u0432\u0438\u0434\u043e\u043d\u0430-\u0424\u043b\u0435\u0442\u0447\u0435\u0440\u0430-\u041f\u0430\u0443\u044d\u043b\u043b\u0430\n",
      "\n",
      "\u0412 \u0434\u0430\u043d\u043d\u043e\u043c \u0430\u043b\u0433\u043e\u0440\u0438\u0442\u043c\u0435 \u0434\u043b\u044f \u0432\u044b\u0447\u0438\u0441\u043b\u0435\u043d\u0438\u044f \u043f\u043e\u0441\u043b\u0435\u0434\u043e\u0432\u0430\u0442\u0435\u043b\u044c\u043d\u043e\u0441\u0442\u0438 $\\{x^k\\}$ \u0438\u0441\u043f\u043e\u043b\u044c\u0437\u0443\u0435\u0442\u0441\u044f \u043f\u0440\u0430\u0432\u0438\u043b\u043e:\n",
      "\n",
      "$$\n",
      "x^{k+1} = x^k - \\alpha^{*k}G^{k+1}\\nabla f(x^k), k = 0, 1, \\cdots\n",
      "$$\n",
      "\n",
      "\u0433\u0434\u0435 $G^{k+1}$ - \u043c\u0430\u0442\u0440\u0438\u0446\u0430 \u0440\u0430\u0437\u043c\u0435\u0440\u0430 $n\\times n$, \u044f\u0432\u043b\u044f\u044e\u0449\u0430\u044f\u0441\u044f \u0430\u043f\u043f\u0440\u043e\u043a\u0441\u0438\u043c\u0430\u0446\u0438\u0435\u0439 \u043e\u0431\u0440\u0430\u0442\u043d\u043e\u0439 \u043c\u0430\u0442\u0440\u0438\u0446\u044b \u0413\u0435\u0441\u0441\u0435."
     ]
    },
    {
     "cell_type": "code",
     "collapsed": false,
     "input": [
      "n = 3 #\u0440\u0430\u0437\u043c\u0435\u0440\u043d\u043e\u0441\u0442\u044c \n",
      "\n",
      "def DFP(x, step = 0, x_prev = 0, G = np.ones([n, n]), eps1 = 0.001, eps2 = 0.001, delta = 0.001, m = 1000, max_step = 100):\n",
      "    d = -Grad(x)\n",
      "    if np.linalg.norm(d) < eps1 or step > m:\n",
      "        return f(x), x, step\n",
      "    if step > 0:\n",
      "        delta_g = Grad(x) - Grad(x_prev)\n",
      "        delta_x = x - x_prev\n",
      "        G += np.dot(delta_x, delta_x.T)/np.dot(delta_x.T, delta_g) - \\\n",
      "             np.dot(np.dot(np.dot(G, delta_g), delta_g.T), G.T)/np.dot(np.dot(delta_g.T, G), delta_g)\n",
      "        d = np.dot(-G, Grad(x))\n",
      "    alpha = minimize_scalar(lambda alpha: f(x + alpha*d), bounds = (-max_step, max_step), method = 'Golden')\n",
      "    new_x = x + alpha.x*d\n",
      "    if abs(np.linalg.norm(x - new_x)) < delta and abs(f(x) - f(new_x)) < eps2:\n",
      "        return f(new_x), new_x, step\n",
      "    return DFP(new_x, step+1, x, G)"
     ],
     "language": "python",
     "metadata": {},
     "outputs": [],
     "prompt_number": 75
    },
    {
     "cell_type": "markdown",
     "metadata": {},
     "source": [
      "####\u041c\u0435\u0442\u043e\u0434 \u041b\u0435\u0432\u0435\u043d\u0431\u0435\u0440\u0433\u0430-\u041c\u0430\u0440\u043a\u0432\u0430\u0440\u0434\u0442\u0430\n",
      "\n",
      "\u0414\u043b\u044f \u0440\u0435\u0430\u043b\u0438\u0437\u0430\u0446\u0438\u0438 \u044d\u0442\u043e\u0433\u043e \u0430\u043b\u0433\u043e\u0440\u0438\u0442\u043c\u0430 \u043d\u0435\u043e\u0431\u0445\u043e\u0434\u0438\u043c\u043e \u0432\u044b\u0447\u0438\u0441\u043b\u0438\u0442\u044c \u0413\u0435\u0441\u0441\u0438\u0430\u043d \u0444\u0443\u043d\u043a\u0446\u0438\u0438 $f(x)$"
     ]
    },
    {
     "cell_type": "code",
     "collapsed": false,
     "input": [
      "xx = Symbol('x')\n",
      "yy = Symbol('y')\n",
      "zz = Symbol('z')\n",
      "\n",
      "my_function = 150*((xx**2-yy)**2+(yy**2-zz)**2)+2*((xx-1)**2+(yy-1)**2)+110\n",
      "syms = [xx, yy, zz]\n",
      "\n",
      "print hessian(my_function, syms)"
     ],
     "language": "python",
     "metadata": {},
     "outputs": [
      {
       "output_type": "stream",
       "stream": "stdout",
       "text": [
        "Matrix([[1800*x**2 - 600*y + 4, -600*x, 0], [-600*x, 1800*y**2 - 600*z + 304, -600*y], [0, -600*y, 300]])\n"
       ]
      }
     ],
     "prompt_number": 33
    },
    {
     "cell_type": "markdown",
     "metadata": {},
     "source": [
      "\u0414\u043b\u044f \u0432\u044b\u0447\u0438\u0441\u043b\u0435\u043d\u0438\u044f \u043f\u043e\u0441\u043b\u0435\u0434\u043e\u0432\u0430\u0442\u0435\u043b\u044c\u043d\u043e\u0441\u0442\u0438 $\\{x^k\\}$ \u0438\u0441\u043f\u043e\u043b\u044c\u0437\u0443\u0435\u0442\u0441\u044f \u043f\u0440\u0430\u0432\u0438\u043b\u043e:\n",
      "\n",
      "$$\n",
      "x^{k+1} = x^k - (H(x^k)+\\mu^k E)^{-1}\\nabla f(x^k), k = 0, 1, \\cdots\n",
      "$$\n",
      "\n",
      "\u0433\u0434\u0435 $E$ - \u0435\u0434\u0438\u043d\u0438\u0447\u043d\u0430\u044f \u043c\u0430\u0442\u0440\u0438\u0446\u0430, $\\mu^k$ - \u043f\u043e\u0441\u043b\u0435\u0434\u043e\u0432\u0430\u0442\u0435\u043b\u044c\u043d\u043e\u0441\u0442\u044c \u043f\u043e\u043b\u043e\u0436\u0438\u0442\u0435\u043b\u044c\u043d\u044b\u0445 \u0447\u0438\u0441\u0435\u043b, \u0442\u0430\u043a\u0438\u0445, \u0447\u0442\u043e \u043c\u0430\u0442\u0440\u0438\u0446\u0430 $(H(x^k)+\\mu^k E)^{-1}$ \u043f\u043e\u043b\u043e\u0436\u0438\u0442\u0435\u043b\u044c\u043d\u043e \u043e\u043f\u0440\u0435\u0434\u0435\u043b\u0435\u043d\u0430."
     ]
    },
    {
     "cell_type": "code",
     "collapsed": false,
     "input": [
      "def Hessian(x):\n",
      "    return np.matrix([[1800*x[0]**2 - 600*x[1] + 4, -600*x[0], 0], \n",
      "                     [-600*x[0], 1800*x[1]**2 - 600*x[2] + 304, -600*x[1]], \n",
      "                     [0, -600*x[1], 300]])\n",
      "\n",
      "def LevenbergMarkvardt(x, step = 0, m = 10000, eps = 0.01, M = 1000):\n",
      "    d = Grad(x)\n",
      "    if np.linalg.norm(d) < eps or step > M:\n",
      "        return f(x), x, step\n",
      "    while True:\n",
      "        d = np.dot(-(Hessian(x)+m*np.ones([n, n])).I, d)\n",
      "        new_x = x + d\n",
      "        if f(new_x) < f(x):\n",
      "            return LevenbergMarkvardt(np.array(new_x)[0], step+1, m / 2.)\n",
      "        m *= 2"
     ],
     "language": "python",
     "metadata": {},
     "outputs": [],
     "prompt_number": 65
    },
    {
     "cell_type": "markdown",
     "metadata": {},
     "source": [
      "####\u0422\u0435\u0441\u0442\u0438\u0440\u043e\u0432\u0430\u043d\u0438\u0435\n",
      "\n",
      "\u0418\u043d\u0438\u0446\u0438\u0430\u043b\u0438\u0437\u0430\u0446\u0438\u044f \u0441\u043b\u0443\u0447\u0430\u0439\u043d\u043e\u0439 \u0442\u043e\u0447\u043a\u0438 \u043f\u0435\u0440\u0432\u043e\u0433\u043e \u043f\u0440\u0438\u0431\u043b\u0438\u0436\u0435\u043d\u0438\u044f"
     ]
    },
    {
     "cell_type": "code",
     "collapsed": false,
     "input": [
      "start_point = np.random.random(n)\n",
      "print f(start_point), start_point"
     ],
     "language": "python",
     "metadata": {},
     "outputs": [
      {
       "output_type": "stream",
       "stream": "stdout",
       "text": [
        "120.131080504 [ 0.49083565  0.43962578  0.05039733]\n"
       ]
      }
     ],
     "prompt_number": 16
    },
    {
     "cell_type": "markdown",
     "metadata": {},
     "source": [
      "\u041f\u0440\u0438 \u0442\u0435\u0441\u0442\u0438\u0440\u043e\u0432\u0430\u043d\u0438\u0435 \u043a\u0430\u0436\u0434\u043e\u0433\u043e \u043c\u0435\u0442\u043e\u0434\u0430 \u0432\u044b\u0432\u043e\u0434\u0438\u0442\u0441\u044f \u0442\u0440\u0438 \u0447\u0438\u0441\u043b\u0430: \u0437\u043d\u0430\u0447\u0435\u043d\u0438\u0435 \u0444\u0443\u043d\u043a\u0446\u0438\u0438 \u0432 \u043d\u0430\u0439\u0434\u0435\u043d\u043d\u043e\u0439 \u0442\u043e\u0447\u043a\u0435 \u043c\u0438\u043d\u0438\u043c\u0443\u043c\u0430, \u0442\u043e\u0447\u043a\u0430 \u044d\u043a\u0441\u0442\u0440\u0435\u043c\u0443\u043c\u0430 \u0438 \u043a\u043e\u043b\u0438\u0447\u0435\u0441\u0442\u0432\u043e \u0448\u0430\u0433\u043e\u0432 \u0437\u0430 \u043a\u043e\u0442\u043e\u0440\u044b\u0435 \u0431\u044b\u043b \u043f\u043e\u043b\u0443\u0447\u0435\u043d \u0440\u0435\u0437\u0443\u043b\u044c\u0442\u0430\u0442"
     ]
    },
    {
     "cell_type": "code",
     "collapsed": false,
     "input": [
      "print FletcherReeves(start_point)"
     ],
     "language": "python",
     "metadata": {},
     "outputs": [
      {
       "output_type": "stream",
       "stream": "stdout",
       "text": [
        "(110.05502463965524, array([ 0.92441219,  0.85382141,  0.72672446]), 7)\n"
       ]
      }
     ],
     "prompt_number": 17
    },
    {
     "cell_type": "code",
     "collapsed": false,
     "input": [
      "print DFP(start_point)"
     ],
     "language": "python",
     "metadata": {},
     "outputs": [
      {
       "output_type": "stream",
       "stream": "stdout",
       "text": [
        "(111.04360226356246, array([ 0.67532578,  0.43226241,  0.21307288]), 2)\n"
       ]
      }
     ],
     "prompt_number": 76
    },
    {
     "cell_type": "code",
     "collapsed": false,
     "input": [
      "print LevenbergMarkvardt(start_point)"
     ],
     "language": "python",
     "metadata": {},
     "outputs": [
      {
       "output_type": "stream",
       "stream": "stdout",
       "text": [
        "(110.0000000015451, array([ 0.99998799,  0.99997579,  0.99995086]), 21)\n"
       ]
      }
     ],
     "prompt_number": 67
    }
   ],
   "metadata": {}
  }
 ]
}